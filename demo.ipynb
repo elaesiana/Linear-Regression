{
 "cells": [
  {
   "cell_type": "code",
   "execution_count": 5,
   "source": [
    "from LinearRegression import LinearRegression \r\n",
    "from sklearn import datasets, linear_model\r\n",
    "from sklearn.metrics import mean_squared_error, r2_score\r\n",
    "import matplotlib.pyplot as plt\r\n",
    "import numpy as np\r\n"
   ],
   "outputs": [],
   "metadata": {}
  },
  {
   "cell_type": "code",
   "execution_count": 6,
   "source": [
    "#Load dataset\r\n",
    "diabetes_X, diabetes_y = datasets.load_diabetes(return_X_y=True)\r\n",
    "\r\n",
    "# Use only one feature\r\n",
    "diabetes_X = diabetes_X[:, np.newaxis, 2]\r\n",
    "\r\n",
    "# Split the data into training/testing sets\r\n",
    "diabetes_X_train = diabetes_X[:-20]\r\n",
    "diabetes_X_test = diabetes_X[-20:]\r\n",
    "\r\n",
    "# Split the targets into training/testing sets\r\n",
    "diabetes_y_train = diabetes_y[:-20]\r\n",
    "diabetes_y_test = diabetes_y[-20:]"
   ],
   "outputs": [],
   "metadata": {}
  },
  {
   "cell_type": "code",
   "execution_count": 7,
   "source": [
    "# Create linear regression object\r\n",
    "lr = LinearRegression(diabetes_X_train,diabetes_y_train)\r\n",
    "\r\n",
    "# Train the model using the training sets\r\n",
    "lr.fit()\r\n",
    "\r\n",
    "# Make predictions using the testing set\r\n",
    "diabetes_y_pred = lr.predict(diabetes_X_test)\r\n",
    "\r\n",
    "print('Intercept : ', lr.intercept)\r\n",
    "print('Coefficient : ', lr.coefficient)\r\n",
    "\r\n",
    "print('Mean Squared Error : ', lr.mean_squared_error(diabetes_y_test, diabetes_y_pred))\r\n",
    "print('Mean Absolute Error : ', lr.mean_absolute_error(diabetes_y_test, diabetes_y_pred))\r\n",
    "print('Coefficient of determination : ', lr.r2_score(diabetes_y_test,diabetes_y_pred))\r\n",
    "\r\n",
    "# Plot outputs\r\n",
    "plt.scatter(diabetes_X_test, diabetes_y_test,  color='black')\r\n",
    "plt.plot(diabetes_X_test, diabetes_y_pred, color='blue', linewidth=3)"
   ],
   "outputs": [
    {
     "output_type": "stream",
     "name": "stdout",
     "text": [
      "Intercept :  152.91886182616173\n",
      "Coefficient :  [[938.23786125]]\n",
      "Mean Squared Error :  2548.072398725972\n",
      "Mean Absolute Error :  41.227091289761475\n",
      "Coefficient of determination :  0.472575447982271\n"
     ]
    },
    {
     "output_type": "execute_result",
     "data": {
      "text/plain": [
       "[<matplotlib.lines.Line2D at 0x1fc2fae29c8>]"
      ]
     },
     "metadata": {},
     "execution_count": 7
    },
    {
     "output_type": "display_data",
     "data": {
      "text/plain": [
       "<Figure size 432x288 with 1 Axes>"
      ],
      "image/png": "[encoded data removed]"
     },
     "metadata": {
      "needs_background": "light"
     }
    }
   ],
   "metadata": {}
  },
  {
   "cell_type": "code",
   "execution_count": null,
   "source": [],
   "outputs": [],
   "metadata": {}
  }
 ],
 "metadata": {
  "orig_nbformat": 4,
  "language_info": {
   "name": "python",
   "version": "3.7.9",
   "mimetype": "text/x-python",
   "codemirror_mode": {
    "name": "ipython",
    "version": 3
   },
   "pygments_lexer": "ipython3",
   "nbconvert_exporter": "python",
   "file_extension": ".py"
  },
  "kernelspec": {
   "name": "python3",
   "display_name": "Python 3.7.9 64-bit"
  },
  "interpreter": {
   "hash": "43caff5dcc899c0940b8095911d08397191658f39841b9bb6363f0ab677136ac"
  }
 },
 "nbformat": 4,
 "nbformat_minor": 2
}